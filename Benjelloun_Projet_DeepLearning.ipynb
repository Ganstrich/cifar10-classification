{
 "cells": [
  {
   "cell_type": "markdown",
   "metadata": {
    "collapsed": true
   },
   "source": [
    "# Projet DeepLearning Benjelloun Adam - CIFAR-10 Dataset"
   ]
  },
  {
   "cell_type": "markdown",
   "metadata": {},
   "source": [
    "Le dataset CIFAR-10 est un ensemble de 60 000 images de couleur de dimensions 32x32 réparties en 10 classes : avion, voiture, oiseau, chat, cerf, chien, grenouille, cheval, bateau et camion. Au total, il y a 6000 images par classe. Le dataset est divisé en 2 : 50000 images composent le jeu de données d'entraînement et 10000 le jeu de test. Nous utiliserons la librairie Keras avec un support TensorFlow.\n",
    "Voici un exemple des images qui composent le jeu de données.\n",
    "<img src='images_presentations\\cifar-10.png'>"
   ]
  },
  {
   "cell_type": "markdown",
   "metadata": {},
   "source": [
    "Nous importons le dataset, les différents modules Keras dont nous aurons besoin ainsi qu'un module de visualisation. Nous définissons également le nombre d'epochs ainsi que la taille d'un batch. "
   ]
  },
  {
   "cell_type": "code",
   "execution_count": null,
   "metadata": {},
   "outputs": [],
   "source": [
    "from keras.datasets import cifar10\n",
    "from keras.models import Sequential\n",
    "from keras.layers import Dense, Dropout, Activation, Flatten\n",
    "from keras.layers import Convolution2D\n",
    "from IPython.display import SVG\n",
    "from keras.utils.visualize_util import model_to_dot\n",
    "from keras.utils import np_utils\n",
    "\n",
    "nb_epoch = 200\n",
    "batch_size = 32\n",
    "nb_classes = 10\n",
    "\n",
    "(X_train, y_train), (X_test, y_test) = cifar10.load_data()"
   ]
  },
  {
   "cell_type": "markdown",
   "metadata": {},
   "source": [
    "## Modèle standard\n",
    "Nous allons ici entraîner un réseau de neurones standard. Pour cela, il nous faut transformer les données qui sont en 32x32x3 (hauteur, largeur, dimensions=3 car ce sont des images RGB)."
   ]
  },
  {
   "cell_type": "code",
   "execution_count": null,
   "metadata": {},
   "outputs": [],
   "source": [
    "X_train = X_train.reshape(50000, 3072)#33*33*3 = 3072\n",
    "X_test = X_test.reshape(10000, 3072)\n",
    "print('X_train shape:', X_train.shape)\n",
    "print(X_train.shape[0], 'train samples')\n",
    "print(X_test.shape[0], 'test samples')\n",
    "\n",
    "Y_train = np_utils.to_categorical(y_train, nb_classes)\n",
    "Y_test = np_utils.to_categorical(y_test, nb_classes)\n",
    "\n",
    "modeleStandard = Sequential()\n",
    "modeleStandard.add(Dense(2048, input_shape=(3072, )))\n",
    "modeleStandard.add(Activation('relu'))\n",
    "modeleStandard.add(Dense(1024))\n",
    "modeleStandard.add(Activation('relu'))\n",
    "modeleStandard.add(Dropout(0.5))\n",
    "modeleStandard.add(Dense(512))\n",
    "modeleStandard.add(Activation('relu'))\n",
    "modeleStandard.add(Dense(256))\n",
    "modeleStandard.add(Activation('relu'))\n",
    "modeleStandard.add(Dense(nb_classes))\n",
    "modeleStandard.add(Activation('softmax'))"
   ]
  },
  {
   "cell_type": "markdown",
   "metadata": {},
   "source": [
    "Voici une représentation du réseau utilisé."
   ]
  },
  {
   "cell_type": "code",
   "execution_count": null,
   "metadata": {},
   "outputs": [],
   "source": [
    "SVG(model_to_dot(modeleStandard).create(prog='dot', format='svg'))"
   ]
  },
  {
   "cell_type": "code",
   "execution_count": null,
   "metadata": {},
   "outputs": [],
   "source": [
    "modeleStandard.compile(loss='categorical_crossentropy',\n",
    "              optimizer='rmsprop',\n",
    "              metrics=['accuracy'])\n",
    "\n",
    "X_train = X_train.astype('float32')\n",
    "X_test = X_test.astype('float32')\n",
    "X_train /= 255\n",
    "X_test /= 255\n",
    "\n",
    "modeleStandard.fit(X_train, Y_train, batch_size=batch_size,\n",
    "          nb_epoch=nb_epoch, validation_data=(X_test, Y_test),\n",
    "          shuffle=True)\n",
    "\n",
    "score = modeleStandard.evaluate(X_test, Y_test, verbose=0)"
   ]
  },
  {
   "cell_type": "markdown",
   "metadata": {},
   "source": [
    "### Résultats\n",
    "\n",
    "Le modèle standard n'est absolument pas concluant. Son entraînement prend un temps considérable. La modification des couches apporte peu de changements."
   ]
  },
  {
   "cell_type": "code",
   "execution_count": null,
   "metadata": {},
   "outputs": [],
   "source": [
    "print('Test score:', score[0])\n",
    "print('Test accuracy:', score[1])"
   ]
  },
  {
   "cell_type": "markdown",
   "metadata": {},
   "source": [
    "## Modèle à convolution\n",
    "\n",
    "Les réseaux de neurones à convolution arrangent les neurones sur 3 dimensions, ils prennent en compte le fait que les données d'entrée soient des images. Afin de mieux visualiser la différence, voici un exemple de réseau standard et un exemple de réseau à convolution.\n",
    "\n",
    "<img src='images_presentations\\standard.jpeg'>\n",
    "<img src='images_presentations\\cnn.jpeg'>"
   ]
  },
  {
   "cell_type": "code",
   "execution_count": null,
   "metadata": {},
   "outputs": [],
   "source": [
    "(X_train, y_train), (X_test, y_test) = cifar10.load_data()\n",
    "\n",
    "modeleCnn = Sequential()\n",
    "modeleCnn.add(Convolution2D(32, 3, 3, border_mode='same',\n",
    "                        input_shape=X_train.shape[1:]))\n",
    "modeleCnn.add(Activation('relu'))\n",
    "modeleCnn.add(Convolution2D(32, 3, 3))\n",
    "modeleCnn.add(Activation('relu'))\n",
    "\n",
    "modeleCnn.add(Flatten())\n",
    "modeleCnn.add(Dense(512))\n",
    "modeleCnn.add(Activation('relu'))\n",
    "modeleCnn.add(Dropout(0.5))\n",
    "modeleCnn.add(Dense(nb_classes))\n",
    "modeleCnn.add(Activation('relu'))\n",
    "\n",
    "model.compile(loss='categorical_crossentropy',\n",
    "              optimizer='rmsprop',\n",
    "              metrics=['accuracy'])\n",
    "\n",
    "modeleCnn.fit(X_train, Y_train, batch_size=batch_size,\n",
    "          nb_epoch=nb_epoch, validation_data=(X_test, Y_test),\n",
    "          shuffle=True)"
   ]
  },
  {
   "cell_type": "markdown",
   "metadata": {},
   "source": [
    "### Résultats\n",
    "\n",
    "Le réseau à convolution semble prendre moins de temps. Il est également plus performant."
   ]
  },
  {
   "cell_type": "code",
   "execution_count": null,
   "metadata": {},
   "outputs": [],
   "source": [
    "score = modeleCnn.evaluate(X_test, Y_test, verbose=0)\n",
    "\n",
    "print('Test score:', score[0])\n",
    "print('Test accuracy:', score[1])"
   ]
  }
 ],
 "metadata": {
  "kernelspec": {
   "display_name": "Python 2",
   "language": "python",
   "name": "python2"
  },
  "language_info": {
   "codemirror_mode": {
    "name": "ipython",
    "version": 2.0
   },
   "file_extension": ".py",
   "mimetype": "text/x-python",
   "name": "python",
   "nbconvert_exporter": "python",
   "pygments_lexer": "ipython2",
   "version": "2.7.6"
  }
 },
 "nbformat": 4,
 "nbformat_minor": 0
}